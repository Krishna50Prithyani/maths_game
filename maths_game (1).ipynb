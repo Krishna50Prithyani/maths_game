{
 "cells": [
  {
   "cell_type": "code",
   "execution_count": 14,
   "id": "70740826-7265-411b-a8f7-15c759d766e0",
   "metadata": {},
   "outputs": [
    {
     "name": "stdin",
     "output_type": "stream",
     "text": [
      "Enter number of users (up to 5):  4\n",
      "Enter your name:  krishna\n",
      "Enter your age:  21\n"
     ]
    },
    {
     "name": "stdout",
     "output_type": "stream",
     "text": [
      "\n",
      "krishna, let's begin the quiz!\n",
      "\n"
     ]
    },
    {
     "name": "stdin",
     "output_type": "stream",
     "text": [
      "Q1: What is 19 * 17?  323\n",
      "Q2: What is 16 - 8?  8\n",
      "Q3: What is 11 + 10?  21\n",
      "Q4: What is 2 * 1?  2\n",
      "Q5: What is 1 - 12?  2\n"
     ]
    },
    {
     "name": "stdout",
     "output_type": "stream",
     "text": [
      "\n",
      "krishna, your score is 4/5.\n",
      "\n"
     ]
    },
    {
     "name": "stdin",
     "output_type": "stream",
     "text": [
      "Enter your name:  athul\n",
      "Enter your age:  19\n"
     ]
    },
    {
     "name": "stdout",
     "output_type": "stream",
     "text": [
      "\n",
      "athul, let's begin the quiz!\n",
      "\n"
     ]
    },
    {
     "name": "stdin",
     "output_type": "stream",
     "text": [
      "Q1: What is 16 - 20?  4\n",
      "Q2: What is 5 * 6?  30\n",
      "Q3: What is 5 - 10?  -5\n",
      "Q4: What is 10 - 13?  4\n",
      "Q5: What is 18 + 13?  6\n"
     ]
    },
    {
     "name": "stdout",
     "output_type": "stream",
     "text": [
      "\n",
      "athul, your score is 2/5.\n",
      "\n"
     ]
    },
    {
     "name": "stdin",
     "output_type": "stream",
     "text": [
      "Enter your name:  ashmit\n",
      "Enter your age:  20\n"
     ]
    },
    {
     "name": "stdout",
     "output_type": "stream",
     "text": [
      "\n",
      "ashmit, let's begin the quiz!\n",
      "\n"
     ]
    },
    {
     "name": "stdin",
     "output_type": "stream",
     "text": [
      "Q1: What is 19 + 9?  28\n",
      "Q2: What is 14 + 12?  26\n",
      "Q3: What is 8 - 13?  -5\n",
      "Q4: What is 4 + 10?  14\n",
      "Q5: What is 3 + 4?  7\n"
     ]
    },
    {
     "name": "stdout",
     "output_type": "stream",
     "text": [
      "\n",
      "ashmit, your score is 5/5.\n",
      "\n"
     ]
    },
    {
     "name": "stdin",
     "output_type": "stream",
     "text": [
      "Enter your name:  shyam\n",
      "Enter your age:  18\n"
     ]
    },
    {
     "name": "stdout",
     "output_type": "stream",
     "text": [
      "\n",
      "shyam, let's begin the quiz!\n",
      "\n"
     ]
    },
    {
     "name": "stdin",
     "output_type": "stream",
     "text": [
      "Q1: What is 20 + 12?  32\n",
      "Q2: What is 1 * 12?  12\n",
      "Q3: What is 11 + 8?  19\n",
      "Q4: What is 17 - 11?  6\n",
      "Q5: What is 6 * 15?  7\n"
     ]
    },
    {
     "name": "stdout",
     "output_type": "stream",
     "text": [
      "\n",
      "shyam, your score is 4/5.\n",
      "\n",
      "Results exported to 'math_game_results.csv'.\n",
      "Results exported to 'math_game_results.xlsx'.\n"
     ]
    },
    {
     "name": "stderr",
     "output_type": "stream",
     "text": [
      "C:\\Users\\Krishna\\AppData\\Local\\Temp\\ipykernel_41248\\1050000115.py:75: FutureWarning: \n",
      "\n",
      "Passing `palette` without assigning `hue` is deprecated and will be removed in v0.14.0. Assign the `x` variable to `hue` and set `legend=False` for the same effect.\n",
      "\n",
      "  sns.barplot(data=df, x='Name', y='Score', palette='viridis')\n"
     ]
    },
    {
     "data": {
      "image/png": "[encoded data removed]",
      "text/plain": [
       "<Figure size 800x500 with 1 Axes>"
      ]
     },
     "metadata": {},
     "output_type": "display_data"
    }
   ],
   "source": [
    "import pandas as pd\n",
    "import random\n",
    "import matplotlib.pyplot as plt\n",
    "import seaborn as sns\n",
    "\n",
    "# List of math questions\n",
    "def generate_questions():\n",
    "    operations = ['+', '-', '*']\n",
    "    questions = []\n",
    "    for _ in range(5):  # 5 questions per user\n",
    "        num1 = random.randint(1, 20)\n",
    "        num2 = random.randint(1, 20)\n",
    "        op = random.choice(operations)\n",
    "        question = f\"{num1} {op} {num2}\"\n",
    "        answer = eval(question)\n",
    "        questions.append((question, answer))\n",
    "    return questions\n",
    "\n",
    "# Game for a single user\n",
    "def play_game(username):\n",
    "    questions = generate_questions()\n",
    "    score = 0\n",
    "    user_answers = []\n",
    "    \n",
    "    print(f\"\\n{username}, let's begin the quiz!\\n\")\n",
    "\n",
    "    for i, (q, ans) in enumerate(questions, 1):\n",
    "        user_input = input(f\"Q{i}: What is {q}? \")\n",
    "        try:\n",
    "            user_input = int(user_input)\n",
    "            user_answers.append(user_input)\n",
    "            if user_input == ans:\n",
    "                score += 1\n",
    "        except:\n",
    "            user_answers.append(\"Invalid\")\n",
    "    \n",
    "    print(f\"\\n{username}, your score is {score}/5.\\n\")\n",
    "    return score, user_answers, [q for q, _ in questions]\n",
    "\n",
    "# Main logic for multiple users\n",
    "def main():\n",
    "    user_data = []\n",
    "    num_users = int(input(\"Enter number of users (up to 5): \"))\n",
    "\n",
    "    for _ in range(num_users):\n",
    "        name = input(\"Enter your name: \")\n",
    "        age = input(\"Enter your age: \")\n",
    "        score, answers, questions = play_game(name)\n",
    "\n",
    "        user_dict = {\n",
    "            \"Name\": name,\n",
    "            \"Age\": age,\n",
    "            \"Score\": score,\n",
    "        }\n",
    "\n",
    "        for i in range(len(questions)):\n",
    "            user_dict[f\"Q{i+1}\"] = questions[i]\n",
    "            user_dict[f\"A{i+1}\"] = answers[i]\n",
    "        \n",
    "        user_data.append(user_dict)\n",
    "\n",
    "    # Create DataFrame\n",
    "    df = pd.DataFrame(user_data)\n",
    "\n",
    "    # Export to CSV\n",
    "    df.to_csv(\"math_game_results.csv\", index=False)\n",
    "    df.to_excel(\"math_game_results.xlsx\", index=False)\n",
    "    print(\"Results exported to 'math_game_results.csv'.\")\n",
    "    print(\"Results exported to 'math_game_results.xlsx'.\") \n",
    "\n",
    "    \n",
    "\n",
    "    # Visualization\n",
    "    plt.figure(figsize=(8, 5))\n",
    "    sns.barplot(data=df, x='Name', y='Score', palette='viridis')\n",
    "    plt.title(\"User Scores in Mental Math Challenge\")\n",
    "    plt.xlabel(\"User\")\n",
    "    plt.ylabel(\"Score out of 5\")\n",
    "    plt.ylim(0, 5)\n",
    "    plt.grid(axis='y')\n",
    "    plt.tight_layout()\n",
    "    plt.show()\n",
    "\n",
    "# Corrected __name__ check\n",
    "if __name__ == \"__main__\":\n",
    "    main() "
   ]
  },
  {
   "cell_type": "code",
   "execution_count": null,
   "id": "02c5f114-fbe2-498d-b013-94f753ed3910",
   "metadata": {},
   "outputs": [],
   "source": [
    "Made by -\n",
    "1). Aditya Pratap Singh - 2311111\n",
    "2). Krishna Sanjay Prithyani - 2311150\n",
    "3). Manas Agarwal - 2311153\n",
    "4). Rishit Bhargava - 2311178\n",
    "5). Harsh Chachan- 2311141"
   ]
  }
 ],
 "metadata": {
  "kernelspec": {
   "display_name": "Python 3 (ipykernel)",
   "language": "python",
   "name": "python3"
  },
  "language_info": {
   "codemirror_mode": {
    "name": "ipython",
    "version": 3
   },
   "file_extension": ".py",
   "mimetype": "text/x-python",
   "name": "python",
   "nbconvert_exporter": "python",
   "pygments_lexer": "ipython3",
   "version": "3.12.4"
  }
 },
 "nbformat": 4,
 "nbformat_minor": 5
}
